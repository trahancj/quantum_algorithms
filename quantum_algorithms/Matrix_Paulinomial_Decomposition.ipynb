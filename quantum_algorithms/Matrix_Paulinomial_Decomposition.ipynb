{
 "cells": [
  {
   "cell_type": "code",
   "execution_count": 24,
   "metadata": {},
   "outputs": [
    {
     "data": {
      "text/html": [
       "<style>.container { width:100% !important; }</style>"
      ],
      "text/plain": [
       "<IPython.core.display.HTML object>"
      ]
     },
     "metadata": {},
     "output_type": "display_data"
    },
    {
     "data": {
      "text/html": [
       "<style>.output_result { max-width:100% !important; }</style>"
      ],
      "text/plain": [
       "<IPython.core.display.HTML object>"
      ]
     },
     "metadata": {},
     "output_type": "display_data"
    },
    {
     "data": {
      "text/html": [
       "<style>.prompt { display:none !important; }</style>"
      ],
      "text/plain": [
       "<IPython.core.display.HTML object>"
      ]
     },
     "metadata": {},
     "output_type": "display_data"
    }
   ],
   "source": [
    "from sympy import *\n",
    "from sympy.physics.quantum import TensorProduct\n",
    "from sympy.physics.quantum.dagger import Dagger\n",
    "from IPython.core.display import display, HTML\n",
    "import pprint\n",
    "import numpy as np\n",
    "import sympy as sp\n",
    "\n",
    "display(HTML(\"<style>.container { width:100% !important; }</style>\"))\n",
    "display(HTML(\"<style>.output_result { max-width:100% !important; }</style>\"))\n",
    "display(HTML(\"<style>.prompt { display:none !important; }</style>\"))\n",
    "pp = pprint.PrettyPrinter(width=110, compact=True)\n",
    "np.set_printoptions(linewidth=110)\n",
    "\n",
    "# Pauli Unitary Transformations\n",
    "nPauli = 4\n",
    "II = Matrix([[1+0*I,0],[0,1+0*I]])\n",
    "Z = Matrix([[1,0],[0,-1]])\n",
    "X = Matrix([[0,1],[1,0]])\n",
    "Y = Matrix([[0,0-I],[0+I,0]])\n",
    "Pauli = [II,X,Y,Z]\n",
    "Pauli_Names = [\"I\",\"X\",\"Y\",\"Z\"]"
   ]
  },
  {
   "cell_type": "code",
   "execution_count": 157,
   "metadata": {},
   "outputs": [],
   "source": [
    "import functools\n",
    "from operator import mul\n",
    "\n",
    "def pauli_decomp(nqbits,M,Pauli,Pauli_Names,nPauli):\n",
    "    \n",
    "    pauli_decomp = []\n",
    "    \n",
    "    # ((qbit1),(qbit2),(qbit3),...)\n",
    "    # ranges=((0,nPauli),(0,nPauli),(0,nPauli)) #<--- 3 qubit\n",
    "    ranges=[[0,nPauli]] # this is a list\n",
    "    for i in range(1,nqbits):\n",
    "        ranges.append([0,nPauli])\n",
    "    # now convert to tuples\n",
    "    ranges = [tuple(l) for l in ranges]\n",
    "    ranges = tuple(ranges)\n",
    "    #print(ranges)\n",
    "\n",
    "    operations=functools.reduce(mul,(p[1]-p[0] for p in ranges))-1\n",
    "    result=[i[0] for i in ranges]\n",
    "    pos=len(ranges)-1\n",
    "    increments=0\n",
    "\n",
    "    #P = TensorProduct(Pauli[result[0]],Pauli[result[1]],Pauli[result[2]]) # 3qbit\n",
    "    P = TensorProduct(Pauli[result[0]],Pauli[result[1]])\n",
    "    for ii in range(2,nqbits):\n",
    "        P = TensorProduct(P,Pauli[result[ii]]);\n",
    "    \n",
    "    coeff = (1/(2**(nqbits))) * trace(P*M)\n",
    "    if (abs(coeff) > 1e-12):\n",
    "        \n",
    "        #pauli_decomp.append([coeff,Pauli_Names[result[0]] + Pauli_Names[result[1]] + Pauli_Names[result[2]],[result[0],result[1],result[2]]]) # 3bit\n",
    "        #print(str(coeff) + \"*\" + Pauli_Names[result[0]] + Pauli_Names[result[1]] + Pauli_Names[result[2]])  \n",
    "        \n",
    "        # nqbit data entry\n",
    "        name = Pauli_Names[result[0]]\n",
    "        index = [result[0]]\n",
    "        for ii in range(1,nqbits):\n",
    "            name =  name + Pauli_Names[result[ii]]\n",
    "            index.append(result[ii])\n",
    "        pauli_decomp.append([coeff,name,index]) \n",
    "\n",
    "    while increments < operations:\n",
    "        if result[pos]==ranges[pos][1]-1:\n",
    "            result[pos]=ranges[pos][0]\n",
    "            pos-=1\n",
    "        else:\n",
    "            result[pos]+=1\n",
    "            increments+=1\n",
    "            pos=len(ranges)-1 #increment the innermost loop\n",
    "        \n",
    "            #P = TensorProduct(Pauli[result[0]],Pauli[result[1]],Pauli[result[2]]) # 3qbit\n",
    "            P = TensorProduct(Pauli[result[0]],Pauli[result[1]])\n",
    "            for ii in range(2,nqbits):\n",
    "                P = TensorProduct(P,Pauli[result[ii]]);\n",
    "            \n",
    "            coeff = (1/(2**(nqbits))) * trace(P*M)\n",
    "            if (abs(coeff) > 1e-12):\n",
    "                #pauli_decomp.append([coeff,Pauli_Names[result[0]] + Pauli_Names[result[1]] + Pauli_Names[result[2]],[result[0],result[1],result[2]]])\n",
    "                #print(str(coeff) + \"*\" + Pauli_Names[result[0]] + Pauli_Names[result[1]] + Pauli_Names[result[2]])    \n",
    "                \n",
    "                # nqbit data entry\n",
    "                name = Pauli_Names[result[0]]\n",
    "                index = [result[0]]\n",
    "                for ii in range(1,nqbits):\n",
    "                    name =  name + Pauli_Names[result[ii]]\n",
    "                    index.append(result[ii])\n",
    "                pauli_decomp.append([coeff,name,index]) \n",
    "                               \n",
    "    return pauli_decomp\n",
    "\n",
    "def print_decomp_list(pauli_decomp):\n",
    "    for i in range(0,len(pauli_decomp)):\n",
    "        print(N(pauli_decomp[i][0],6),\" \",pauli_decomp[i][1])\n",
    "        \n",
    "def build_matrix_from_decomp(pauli_decomp):\n",
    "    nqbits = len(pauli_decomp[0][2])\n",
    "    print(\"nqbits: \",nqbits)\n",
    "    \n",
    "    P = TensorProduct(Pauli[pauli_decomp[0][2][0]],Pauli[pauli_decomp[0][2][1]])\n",
    "    for ii in range(2,nqbits):\n",
    "        P = TensorProduct(P,Pauli[pauli_decomp[0][2][ii]]);\n",
    "    P = pauli_decomp[0][0] * P\n",
    "    \n",
    "    #P = pauli_decomp[0][0] * TensorProduct(Pauli[pauli_decomp[0][2][0]],Pauli[pauli_decomp[0][2][1]],Pauli[pauli_decomp[0][2][2]])\n",
    "    #print(N(pauli_decomp[0][0],6),\" * \",Pauli_Names[pauli_decomp[0][2][0]] + Pauli_Names[pauli_decomp[0][2][1]] + Pauli_Names[pauli_decomp[0][2][2]])\n",
    "    for i in range(1,len(pauli_decomp)):\n",
    "        \n",
    "        PP = TensorProduct(Pauli[pauli_decomp[i][2][0]],Pauli[pauli_decomp[i][2][1]])\n",
    "        for ii in range(2,nqbits):\n",
    "            PP = TensorProduct(PP,Pauli[pauli_decomp[i][2][ii]]);\n",
    "        P = P + pauli_decomp[i][0] * PP\n",
    "        \n",
    "        #P = P + pauli_decomp[i][0] * TensorProduct(Pauli[pauli_decomp[i][2][0]],Pauli[pauli_decomp[i][2][1]],Pauli[pauli_decomp[i][2][2]])\n",
    "        #print(N(pauli_decomp[i][0],6),\" * \",Pauli_Names[pauli_decomp[i][2][0]] + Pauli_Names[pauli_decomp[i][2][1]] + Pauli_Names[pauli_decomp[i][2][2]])\n",
    "    return P;\n",
    "    "
   ]
  },
  {
   "cell_type": "code",
   "execution_count": 174,
   "metadata": {},
   "outputs": [
    {
     "name": "stdout",
     "output_type": "stream",
     "text": [
      "nqbits:  3\n",
      "Matrix([\n",
      "[1.0,    0,    0,    0,    0,    0,    0,   0],\n",
      "[1.0, -2.0,  1.0,    0,    0,    0,    0,   0],\n",
      "[  0,  1.0, -2.0,  1.0,    0,    0,    0,   0],\n",
      "[  0,    0,  1.0, -2.0,  1.0,    0,    0,   0],\n",
      "[  0,    0,    0,  1.0, -2.0,  1.0,    0,   0],\n",
      "[  0,    0,    0,    0,  1.0, -2.0,  1.0,   0],\n",
      "[  0,    0,    0,    0,    0,  1.0, -2.0, 1.0],\n",
      "[  0,    0,    0,    0,    0,    0,    0, 1.0]])\n",
      "array([[ 1.,  0.,  0.,  0.,  0.,  0.,  0.,  0.],\n",
      "       [ 1., -2.,  1.,  0.,  0.,  0.,  0.,  0.],\n",
      "       [ 0.,  1., -2.,  1.,  0.,  0.,  0.,  0.],\n",
      "       [ 0.,  0.,  1., -2.,  1.,  0.,  0.,  0.],\n",
      "       [ 0.,  0.,  0.,  1., -2.,  1.,  0.,  0.],\n",
      "       [ 0.,  0.,  0.,  0.,  1., -2.,  1.,  0.],\n",
      "       [ 0.,  0.,  0.,  0.,  0.,  1., -2.,  1.],\n",
      "       [ 0.,  0.,  0.,  0.,  0.,  0.,  0.,  1.]])\n",
      "nqbits:  4\n",
      "Matrix([\n",
      "[1.0,    0,    0,    0,    0,    0,    0,    0,    0,    0,    0,    0,    0,    0,    0,   0],\n",
      "[1.0, -2.0,  1.0,    0,    0,    0,    0,    0,    0,    0,    0,    0,    0,    0,    0,   0],\n",
      "[  0,  1.0, -2.0,  1.0,    0,    0,    0,    0,    0,    0,    0,    0,    0,    0,    0,   0],\n",
      "[  0,    0,  1.0, -2.0,  1.0,    0,    0,    0,    0,    0,    0,    0,    0,    0,    0,   0],\n",
      "[  0,    0,    0,  1.0, -2.0,  1.0,    0,    0,    0,    0,    0,    0,    0,    0,    0,   0],\n",
      "[  0,    0,    0,    0,  1.0, -2.0,  1.0,    0,    0,    0,    0,    0,    0,    0,    0,   0],\n",
      "[  0,    0,    0,    0,    0,  1.0, -2.0,  1.0,    0,    0,    0,    0,    0,    0,    0,   0],\n",
      "[  0,    0,    0,    0,    0,    0,  1.0, -2.0,  1.0,    0,    0,    0,    0,    0,    0,   0],\n",
      "[  0,    0,    0,    0,    0,    0,    0,  1.0, -2.0,  1.0,    0,    0,    0,    0,    0,   0],\n",
      "[  0,    0,    0,    0,    0,    0,    0,    0,  1.0, -2.0,  1.0,    0,    0,    0,    0,   0],\n",
      "[  0,    0,    0,    0,    0,    0,    0,    0,    0,  1.0, -2.0,  1.0,    0,    0,    0,   0],\n",
      "[  0,    0,    0,    0,    0,    0,    0,    0,    0,    0,  1.0, -2.0,  1.0,    0,    0,   0],\n",
      "[  0,    0,    0,    0,    0,    0,    0,    0,    0,    0,    0,  1.0, -2.0,  1.0,    0,   0],\n",
      "[  0,    0,    0,    0,    0,    0,    0,    0,    0,    0,    0,    0,  1.0, -2.0,  1.0,   0],\n",
      "[  0,    0,    0,    0,    0,    0,    0,    0,    0,    0,    0,    0,    0,  1.0, -2.0, 1.0],\n",
      "[  0,    0,    0,    0,    0,    0,    0,    0,    0,    0,    0,    0,    0,    0,    0, 1.0]])\n",
      "array([[ 1.,  0.,  0.,  0.,  0.,  0.,  0.,  0.,  0.,  0.,  0.,  0.,  0.,  0.,  0.,  0.],\n",
      "       [ 1., -2.,  1.,  0.,  0.,  0.,  0.,  0.,  0.,  0.,  0.,  0.,  0.,  0.,  0.,  0.],\n",
      "       [ 0.,  1., -2.,  1.,  0.,  0.,  0.,  0.,  0.,  0.,  0.,  0.,  0.,  0.,  0.,  0.],\n",
      "       [ 0.,  0.,  1., -2.,  1.,  0.,  0.,  0.,  0.,  0.,  0.,  0.,  0.,  0.,  0.,  0.],\n",
      "       [ 0.,  0.,  0.,  1., -2.,  1.,  0.,  0.,  0.,  0.,  0.,  0.,  0.,  0.,  0.,  0.],\n",
      "       [ 0.,  0.,  0.,  0.,  1., -2.,  1.,  0.,  0.,  0.,  0.,  0.,  0.,  0.,  0.,  0.],\n",
      "       [ 0.,  0.,  0.,  0.,  0.,  1., -2.,  1.,  0.,  0.,  0.,  0.,  0.,  0.,  0.,  0.],\n",
      "       [ 0.,  0.,  0.,  0.,  0.,  0.,  1., -2.,  1.,  0.,  0.,  0.,  0.,  0.,  0.,  0.],\n",
      "       [ 0.,  0.,  0.,  0.,  0.,  0.,  0.,  1., -2.,  1.,  0.,  0.,  0.,  0.,  0.,  0.],\n",
      "       [ 0.,  0.,  0.,  0.,  0.,  0.,  0.,  0.,  1., -2.,  1.,  0.,  0.,  0.,  0.,  0.],\n",
      "       [ 0.,  0.,  0.,  0.,  0.,  0.,  0.,  0.,  0.,  1., -2.,  1.,  0.,  0.,  0.,  0.],\n",
      "       [ 0.,  0.,  0.,  0.,  0.,  0.,  0.,  0.,  0.,  0.,  1., -2.,  1.,  0.,  0.,  0.],\n",
      "       [ 0.,  0.,  0.,  0.,  0.,  0.,  0.,  0.,  0.,  0.,  0.,  1., -2.,  1.,  0.,  0.],\n",
      "       [ 0.,  0.,  0.,  0.,  0.,  0.,  0.,  0.,  0.,  0.,  0.,  0.,  1., -2.,  1.,  0.],\n",
      "       [ 0.,  0.,  0.,  0.,  0.,  0.,  0.,  0.,  0.,  0.,  0.,  0.,  0.,  1., -2.,  1.],\n",
      "       [ 0.,  0.,  0.,  0.,  0.,  0.,  0.,  0.,  0.,  0.,  0.,  0.,  0.,  0.,  0.,  1.]])\n"
     ]
    }
   ],
   "source": [
    "# test on a 3qubit boundary stiffness matrix\n",
    "import numpy as np\n",
    "from scipy.sparse import diags\n",
    "\n",
    "def create_dirichlet_stiffness(n):\n",
    "    temp = [np.ones(n-1),-2*np.ones(n),np.ones(n-1)]\n",
    "    offset = [-1,0,1]\n",
    "    K = diags(temp,offset).toarray()\n",
    "    K[0,1:n] = 0\n",
    "    K[n-1,1:n] = 0\n",
    "    K[0,0] = 1\n",
    "    K[n-1,n-1] = 1\n",
    "    return K\n",
    "\n",
    "# Create 3 bit (8 grid node) stiffness mmatrix\n",
    "nqbit = 3\n",
    "K = create_dirichlet_stiffness(2**nqbit)\n",
    "# Is K Unitary\n",
    "T = Dagger(K)*K - K*Dagger(K)\n",
    "assert(abs(T.max())<1e-12)\n",
    "\n",
    "result = pauli_decomp(nqbit,K,Pauli,Pauli_Names,nPauli)\n",
    "TEST = build_matrix_from_decomp(result)\n",
    "pp.pprint(TEST)\n",
    "pp.pprint(K)\n",
    "DIFF = TEST - K\n",
    "assert(abs(max(DIFF))<1e-12)\n",
    "\n",
    "# Create 4 bit (16 grid node) stiffness mmatrix\n",
    "nqbit = 4\n",
    "K = create_dirichlet_stiffness(2**nqbit)\n",
    "# Is K Unitary\n",
    "T = Dagger(K)*K - K*Dagger(K)\n",
    "assert(abs(T.max())<1e-12)\n",
    "\n",
    "result = pauli_decomp(nqbit,K,Pauli,Pauli_Names,nPauli)\n",
    "TEST = build_matrix_from_decomp(result)\n",
    "pp.pprint(TEST)\n",
    "pp.pprint(K)\n",
    "DIFF = TEST - K\n",
    "assert(abs(max(DIFF))<1e-12)"
   ]
  },
  {
   "cell_type": "code",
   "execution_count": 171,
   "metadata": {},
   "outputs": [
    {
     "name": "stdout",
     "output_type": "stream",
     "text": [
      "nqbits:  3\n",
      "Matrix([\n",
      "[ 2.0, -1.0,    0,    0,    0,    0,    0,    0],\n",
      "[-1.0,  2.0, -1.0,    0,    0,    0,    0,    0],\n",
      "[   0, -1.0,  2.0, -1.0,    0,    0,    0,    0],\n",
      "[   0,    0, -1.0,  2.0, -1.0,    0,    0,    0],\n",
      "[   0,    0,    0, -1.0,  2.0, -1.0,    0,    0],\n",
      "[   0,    0,    0,    0, -1.0,  2.0, -1.0,    0],\n",
      "[   0,    0,    0,    0,    0, -1.0,  2.0, -1.0],\n",
      "[   0,    0,    0,    0,    0,    0, -1.0,  2.0]])\n",
      "Matrix([\n",
      "[ 2,   -1,    0,    0,    0,    0,    0,  0],\n",
      "[-1,    2, -1.0,    0,    0,    0,    0,  0],\n",
      "[ 0, -1.0,    2,   -1,    0,    0,    0,  0],\n",
      "[ 0,    0,   -1,    2, -1.0,    0,    0,  0],\n",
      "[ 0,    0,    0, -1.0,    2,   -1,    0,  0],\n",
      "[ 0,    0,    0,    0,   -1,    2, -1.0,  0],\n",
      "[ 0,    0,    0,    0,    0, -1.0,    2, -1],\n",
      "[ 0,    0,    0,    0,    0,    0,   -1,  2]])\n"
     ]
    }
   ],
   "source": [
    "# Another 3 qubit test\n",
    "K = 2*TensorProduct(II,II,II) - TensorProduct(II,II,X) - (1/2)*TensorProduct(II,X,X) - (1/2)*TensorProduct(II,Y,Y) - (1/4)*TensorProduct(X,X,X) + (1/4)*TensorProduct(X,Y,Y) - (1/4)*TensorProduct(Y,X,Y) - (1/4)*TensorProduct(Y,Y,X)\n",
    "# Is K Unitary\n",
    "T = Dagger(K)*K - K*Dagger(K)\n",
    "assert(abs(max(T))<1e-12)\n",
    "\n",
    "result = pauli_decomp(3,K,Pauli,Pauli_Names,nPauli)\n",
    "TEST = build_matrix_from_decomp(result)\n",
    "pp.pprint(TEST)\n",
    "pp.pprint(K)\n",
    "DIFF = TEST - K\n",
    "assert(abs(max(DIFF))<1e-12)"
   ]
  },
  {
   "cell_type": "code",
   "execution_count": 167,
   "metadata": {},
   "outputs": [
    {
     "name": "stdout",
     "output_type": "stream",
     "text": [
      "2.00000   IIII\n",
      "-1.00000   IIXY\n",
      "-0.500000   IXXZ\n",
      "-0.5 + 0.e-12*I   IXYZ\n",
      "nqbits:  4\n"
     ]
    }
   ],
   "source": [
    "# 4 qubit test\n",
    "K = 2*TensorProduct(II,II,II,II) - TensorProduct(II,II,X,Y) - (1/2)*TensorProduct(II,X,X,Z) - (1/2)*TensorProduct(II,X,Y,Z) \n",
    "# Is K Unitary\n",
    "T = Dagger(K)*K - K*Dagger(K)\n",
    "assert(abs(max(T))<1e-12)\n",
    "\n",
    "result = pauli_decomp(4,K,Pauli,Pauli_Names,nPauli)\n",
    "print_decomp_list(result)\n",
    "TEST = build_matrix_from_decomp(result)\n",
    "DIFF = N(TEST,1) - N(K,1)\n",
    "assert(abs(max(DIFF))<1e-12)"
   ]
  },
  {
   "cell_type": "code",
   "execution_count": null,
   "metadata": {},
   "outputs": [],
   "source": []
  }
 ],
 "metadata": {
  "kernelspec": {
   "display_name": "Python 3",
   "language": "python",
   "name": "python3"
  },
  "language_info": {
   "codemirror_mode": {
    "name": "ipython",
    "version": 3
   },
   "file_extension": ".py",
   "mimetype": "text/x-python",
   "name": "python",
   "nbconvert_exporter": "python",
   "pygments_lexer": "ipython3",
   "version": "3.8.3"
  }
 },
 "nbformat": 4,
 "nbformat_minor": 4
}
